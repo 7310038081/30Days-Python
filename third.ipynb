{
 "cells": [
  {
   "cell_type": "markdown",
   "id": "40c38245-c263-4c51-a23c-09bd406a7bcf",
   "metadata": {},
   "source": [
    "In-Built Functions"
   ]
  },
  {
   "cell_type": "markdown",
   "id": "701805ab-721e-43b4-8788-e4c9ae8cf2f2",
   "metadata": {},
   "source": [
    "abs() Function "
   ]
  },
  {
   "cell_type": "code",
   "execution_count": 5,
   "id": "73044101-fc00-4d1a-a1b4-4fd56add659b",
   "metadata": {},
   "outputs": [
    {
     "name": "stdout",
     "output_type": "stream",
     "text": [
      "9.2\n",
      "29\n",
      "6.4031242374328485\n"
     ]
    }
   ],
   "source": [
    " x = -9.2\n",
    "print(abs(x)) #This gives the absolute value .. \n",
    "\n",
    "y = abs(-7-22)\n",
    "print(y) #This gives the absolute value ..\n",
    "\n",
    "z = 5 + 4j\n",
    "print(abs(z))  # This gives the absolute value of the complex number..\n"
   ]
  },
  {
   "cell_type": "markdown",
   "id": "17f57503-20cc-419c-aab7-22fca253b606",
   "metadata": {},
   "source": [
    "BIN Function"
   ]
  },
  {
   "cell_type": "code",
   "execution_count": 8,
   "id": "337f885c-8707-416f-bf97-d07d2ce0774a",
   "metadata": {},
   "outputs": [
    {
     "name": "stdout",
     "output_type": "stream",
     "text": [
      "0b111\n",
      "0b100100\n"
     ]
    }
   ],
   "source": [
    "#This is binary function in python (it converts the number into it's binary form)\n",
    "\n",
    "a = 7\n",
    "print(bin(a))\n",
    "\n",
    "b = 36\n",
    "print(bin(b))  # this gives the binary value of the number\n"
   ]
  },
  {
   "cell_type": "markdown",
   "id": "4dcc6fea-0e99-4f9c-a8b9-7aeedd5cfac6",
   "metadata": {},
   "source": [
    "BYTES Function"
   ]
  },
  {
   "cell_type": "code",
   "execution_count": 11,
   "id": "f4d239ea-1993-458e-bb80-50d2b985e5d4",
   "metadata": {},
   "outputs": [
    {
     "name": "stdout",
     "output_type": "stream",
     "text": [
      "b'\\x00\\x00\\x00\\x00\\x00\\x00\\x00\\x00\\x00\\x00\\x00\\x00\\x00'\n",
      "b'\\x00\\x00\\x00\\x00\\x00\\x00\\x00\\x00\\x00\\x00\\x00\\x00\\x00\\x00\\x00\\x00\\x00\\x00\\x00\\x00\\x00\\x00'\n"
     ]
    }
   ],
   "source": [
    "w = 13\n",
    "print(bytes(w))  #This converts the number into the bytes form\n",
    "\n",
    "y = 22\n",
    "print(bytes(y))\n"
   ]
  },
  {
   "cell_type": "markdown",
   "id": "f84f1ec4-1d35-4160-8223-451dda49024b",
   "metadata": {},
   "source": [
    "CHARACTER Fucntion"
   ]
  },
  {
   "cell_type": "code",
   "execution_count": 13,
   "id": "1e289ea6-3bdc-43b9-be4f-f50e8593754c",
   "metadata": {},
   "outputs": [
    {
     "name": "stdout",
     "output_type": "stream",
     "text": [
      "a\n",
      "b\n"
     ]
    }
   ],
   "source": [
    "x = 97\n",
    "print(chr(x)) #This uni-codes and gives the value.\n",
    "\n",
    "y = 98\n",
    "print(chr(y))\n",
    "\n",
    "\n"
   ]
  },
  {
   "cell_type": "markdown",
   "id": "f979d0e1-929c-4b7a-be21-20aaa362c27e",
   "metadata": {},
   "source": [
    "COMPLEX Functions"
   ]
  },
  {
   "cell_type": "code",
   "execution_count": 15,
   "id": "bac5c700-c3fb-4209-8098-e6f326cdee2c",
   "metadata": {},
   "outputs": [
    {
     "name": "stdout",
     "output_type": "stream",
     "text": [
      "(3+4j)\n",
      "(6+0j)\n"
     ]
    }
   ],
   "source": [
    "h = complex(3,4)\n",
    "print(h)          #This converts the numbers into the complex number \n",
    "\n",
    "i = complex(6)\n",
    "print(i)\n",
    "\n"
   ]
  },
  {
   "cell_type": "markdown",
   "id": "5217cf77-4ba2-4d70-9f63-2547cb208a29",
   "metadata": {},
   "source": [
    "FLOAT Function"
   ]
  },
  {
   "cell_type": "code",
   "execution_count": 18,
   "id": "ea455f12-4b98-46dc-8c3b-b0ccf5ff5df7",
   "metadata": {},
   "outputs": [
    {
     "name": "stdout",
     "output_type": "stream",
     "text": [
      "6.0\n",
      "6.898\n"
     ]
    }
   ],
   "source": [
    "a = 6\n",
    "print(float(a))  #Converts the number into floating point numbers\n",
    "\n",
    "b = 6.898\n",
    "print(float(b))\n"
   ]
  },
  {
   "cell_type": "markdown",
   "id": "5d4fb28c-84fb-4eff-a4e5-ab3e1850cdd6",
   "metadata": {},
   "source": [
    "INT Function"
   ]
  },
  {
   "cell_type": "code",
   "execution_count": 21,
   "id": "3c3d107f-8f28-49d8-af3a-b130d12e139d",
   "metadata": {},
   "outputs": [
    {
     "name": "stdout",
     "output_type": "stream",
     "text": [
      "5\n",
      "16\n"
     ]
    }
   ],
   "source": [
    "x = 5.767\n",
    "print(int(x))  #Converts the number or floating point number into the integer form\n",
    "\n",
    "y = 16\n",
    "print(int(y))\n"
   ]
  },
  {
   "cell_type": "markdown",
   "id": "0c182ddb-50fa-48a6-93c5-5e37c1224939",
   "metadata": {},
   "source": [
    "STRING Function"
   ]
  },
  {
   "cell_type": "code",
   "execution_count": 27,
   "id": "f888e428-8b8c-41d6-9fac-fc3d9d34a8ec",
   "metadata": {},
   "outputs": [
    {
     "name": "stdout",
     "output_type": "stream",
     "text": [
      "<class 'int'>\n",
      "5678\n",
      "<class 'str'>\n"
     ]
    }
   ],
   "source": [
    "a = 5678\n",
    "print(type(a))\n",
    "\n",
    "b = str(5678)\n",
    "print(b)   #converts to the string form\n",
    "\n",
    "print(type(b))\n"
   ]
  },
  {
   "cell_type": "markdown",
   "id": "74d8c83a-e16c-48d7-86a3-6884a0a0f266",
   "metadata": {},
   "source": [
    "HELP Function"
   ]
  },
  {
   "cell_type": "code",
   "execution_count": 30,
   "id": "ba5d65b1-b129-44ad-b7f0-d9a122c95ec1",
   "metadata": {},
   "outputs": [
    {
     "name": "stdout",
     "output_type": "stream",
     "text": [
      "Help on class float in module builtins:\n",
      "\n",
      "class float(object)\n",
      " |  float(x=0, /)\n",
      " |\n",
      " |  Convert a string or number to a floating point number, if possible.\n",
      " |\n",
      " |  Methods defined here:\n",
      " |\n",
      " |  __abs__(self, /)\n",
      " |      abs(self)\n",
      " |\n",
      " |  __add__(self, value, /)\n",
      " |      Return self+value.\n",
      " |\n",
      " |  __bool__(self, /)\n",
      " |      True if self else False\n",
      " |\n",
      " |  __ceil__(self, /)\n",
      " |      Return the ceiling as an Integral.\n",
      " |\n",
      " |  __divmod__(self, value, /)\n",
      " |      Return divmod(self, value).\n",
      " |\n",
      " |  __eq__(self, value, /)\n",
      " |      Return self==value.\n",
      " |\n",
      " |  __float__(self, /)\n",
      " |      float(self)\n",
      " |\n",
      " |  __floor__(self, /)\n",
      " |      Return the floor as an Integral.\n",
      " |\n",
      " |  __floordiv__(self, value, /)\n",
      " |      Return self//value.\n",
      " |\n",
      " |  __format__(self, format_spec, /)\n",
      " |      Formats the float according to format_spec.\n",
      " |\n",
      " |  __ge__(self, value, /)\n",
      " |      Return self>=value.\n",
      " |\n",
      " |  __getattribute__(self, name, /)\n",
      " |      Return getattr(self, name).\n",
      " |\n",
      " |  __getnewargs__(self, /)\n",
      " |\n",
      " |  __gt__(self, value, /)\n",
      " |      Return self>value.\n",
      " |\n",
      " |  __hash__(self, /)\n",
      " |      Return hash(self).\n",
      " |\n",
      " |  __int__(self, /)\n",
      " |      int(self)\n",
      " |\n",
      " |  __le__(self, value, /)\n",
      " |      Return self<=value.\n",
      " |\n",
      " |  __lt__(self, value, /)\n",
      " |      Return self<value.\n",
      " |\n",
      " |  __mod__(self, value, /)\n",
      " |      Return self%value.\n",
      " |\n",
      " |  __mul__(self, value, /)\n",
      " |      Return self*value.\n",
      " |\n",
      " |  __ne__(self, value, /)\n",
      " |      Return self!=value.\n",
      " |\n",
      " |  __neg__(self, /)\n",
      " |      -self\n",
      " |\n",
      " |  __pos__(self, /)\n",
      " |      +self\n",
      " |\n",
      " |  __pow__(self, value, mod=None, /)\n",
      " |      Return pow(self, value, mod).\n",
      " |\n",
      " |  __radd__(self, value, /)\n",
      " |      Return value+self.\n",
      " |\n",
      " |  __rdivmod__(self, value, /)\n",
      " |      Return divmod(value, self).\n",
      " |\n",
      " |  __repr__(self, /)\n",
      " |      Return repr(self).\n",
      " |\n",
      " |  __rfloordiv__(self, value, /)\n",
      " |      Return value//self.\n",
      " |\n",
      " |  __rmod__(self, value, /)\n",
      " |      Return value%self.\n",
      " |\n",
      " |  __rmul__(self, value, /)\n",
      " |      Return value*self.\n",
      " |\n",
      " |  __round__(self, ndigits=None, /)\n",
      " |      Return the Integral closest to x, rounding half toward even.\n",
      " |\n",
      " |      When an argument is passed, work like built-in round(x, ndigits).\n",
      " |\n",
      " |  __rpow__(self, value, mod=None, /)\n",
      " |      Return pow(value, self, mod).\n",
      " |\n",
      " |  __rsub__(self, value, /)\n",
      " |      Return value-self.\n",
      " |\n",
      " |  __rtruediv__(self, value, /)\n",
      " |      Return value/self.\n",
      " |\n",
      " |  __sub__(self, value, /)\n",
      " |      Return self-value.\n",
      " |\n",
      " |  __truediv__(self, value, /)\n",
      " |      Return self/value.\n",
      " |\n",
      " |  __trunc__(self, /)\n",
      " |      Return the Integral closest to x between 0 and x.\n",
      " |\n",
      " |  as_integer_ratio(self, /)\n",
      " |      Return a pair of integers, whose ratio is exactly equal to the original float.\n",
      " |\n",
      " |      The ratio is in lowest terms and has a positive denominator.  Raise\n",
      " |      OverflowError on infinities and a ValueError on NaNs.\n",
      " |\n",
      " |      >>> (10.0).as_integer_ratio()\n",
      " |      (10, 1)\n",
      " |      >>> (0.0).as_integer_ratio()\n",
      " |      (0, 1)\n",
      " |      >>> (-.25).as_integer_ratio()\n",
      " |      (-1, 4)\n",
      " |\n",
      " |  conjugate(self, /)\n",
      " |      Return self, the complex conjugate of any float.\n",
      " |\n",
      " |  hex(self, /)\n",
      " |      Return a hexadecimal representation of a floating-point number.\n",
      " |\n",
      " |      >>> (-0.1).hex()\n",
      " |      '-0x1.999999999999ap-4'\n",
      " |      >>> 3.14159.hex()\n",
      " |      '0x1.921f9f01b866ep+1'\n",
      " |\n",
      " |  is_integer(self, /)\n",
      " |      Return True if the float is an integer.\n",
      " |\n",
      " |  ----------------------------------------------------------------------\n",
      " |  Class methods defined here:\n",
      " |\n",
      " |  __getformat__(typestr, /) from builtins.type\n",
      " |      You probably don't want to use this function.\n",
      " |\n",
      " |        typestr\n",
      " |          Must be 'double' or 'float'.\n",
      " |\n",
      " |      It exists mainly to be used in Python's test suite.\n",
      " |\n",
      " |      This function returns whichever of 'unknown', 'IEEE, big-endian' or 'IEEE,\n",
      " |      little-endian' best describes the format of floating point numbers used by the\n",
      " |      C type named by typestr.\n",
      " |\n",
      " |  fromhex(string, /) from builtins.type\n",
      " |      Create a floating-point number from a hexadecimal string.\n",
      " |\n",
      " |      >>> float.fromhex('0x1.ffffp10')\n",
      " |      2047.984375\n",
      " |      >>> float.fromhex('-0x1p-1074')\n",
      " |      -5e-324\n",
      " |\n",
      " |  ----------------------------------------------------------------------\n",
      " |  Static methods defined here:\n",
      " |\n",
      " |  __new__(*args, **kwargs) from builtins.type\n",
      " |      Create and return a new object.  See help(type) for accurate signature.\n",
      " |\n",
      " |  ----------------------------------------------------------------------\n",
      " |  Data descriptors defined here:\n",
      " |\n",
      " |  imag\n",
      " |      the imaginary part of a complex number\n",
      " |\n",
      " |  real\n",
      " |      the real part of a complex number\n",
      "\n"
     ]
    }
   ],
   "source": [
    "help(float)  #Gives all the information about the functions which you want to know"
   ]
  },
  {
   "cell_type": "code",
   "execution_count": 31,
   "id": "a92cf2c6-3ce6-4e3e-bce6-875390a46281",
   "metadata": {},
   "outputs": [
    {
     "name": "stdout",
     "output_type": "stream",
     "text": [
      "Help on built-in function print in module builtins:\n",
      "\n",
      "print(*args, sep=' ', end='\\n', file=None, flush=False)\n",
      "    Prints the values to a stream, or to sys.stdout by default.\n",
      "\n",
      "    sep\n",
      "      string inserted between values, default a space.\n",
      "    end\n",
      "      string appended after the last value, default a newline.\n",
      "    file\n",
      "      a file-like object (stream); defaults to the current sys.stdout.\n",
      "    flush\n",
      "      whether to forcibly flush the stream.\n",
      "\n"
     ]
    }
   ],
   "source": [
    "help(print)"
   ]
  },
  {
   "cell_type": "code",
   "execution_count": 33,
   "id": "8e975a38-c205-456e-9281-3bd2fc71f3b9",
   "metadata": {},
   "outputs": [
    {
     "name": "stdout",
     "output_type": "stream",
     "text": [
      "Help on built-in function abs in module builtins:\n",
      "\n",
      "abs(x, /)\n",
      "    Return the absolute value of the argument.\n",
      "\n"
     ]
    }
   ],
   "source": [
    "help(abs)"
   ]
  },
  {
   "cell_type": "markdown",
   "id": "32640719-a301-4aac-810c-84e01cf8e244",
   "metadata": {},
   "source": [
    "INPUT Function"
   ]
  },
  {
   "cell_type": "code",
   "execution_count": 37,
   "id": "3f95e4d3-a175-4122-afb3-288f3ef04383",
   "metadata": {},
   "outputs": [
    {
     "name": "stdin",
     "output_type": "stream",
     "text": [
      "Enter your Name Vivek Singh\n"
     ]
    },
    {
     "name": "stdout",
     "output_type": "stream",
     "text": [
      "Your Name is  Vivek Singh\n"
     ]
    },
    {
     "name": "stdin",
     "output_type": "stream",
     "text": [
      "Enter your Age 23\n"
     ]
    },
    {
     "name": "stdout",
     "output_type": "stream",
     "text": [
      "Your Age is  23\n"
     ]
    },
    {
     "name": "stdin",
     "output_type": "stream",
     "text": [
      "What are you currently learning Python\n"
     ]
    },
    {
     "name": "stdout",
     "output_type": "stream",
     "text": [
      "You are currently learning Python\n"
     ]
    }
   ],
   "source": [
    "x = input(\"Enter your Name\")  #This functions takes the input from the user\n",
    "print(\"Your Name is \",x)\n",
    "\n",
    "y = input(\"Enter your Age\")\n",
    "print(\"Your Age is \",y)\n",
    "\n",
    "z = input(\"What are you currently learning\")\n",
    "print(\"You are currently learning\",z)"
   ]
  },
  {
   "cell_type": "code",
   "execution_count": null,
   "id": "0eb362f0-2f1a-460e-acd6-98a712303f67",
   "metadata": {},
   "outputs": [],
   "source": []
  }
 ],
 "metadata": {
  "kernelspec": {
   "display_name": "Python 3 (ipykernel)",
   "language": "python",
   "name": "python3"
  },
  "language_info": {
   "codemirror_mode": {
    "name": "ipython",
    "version": 3
   },
   "file_extension": ".py",
   "mimetype": "text/x-python",
   "name": "python",
   "nbconvert_exporter": "python",
   "pygments_lexer": "ipython3",
   "version": "3.12.0"
  }
 },
 "nbformat": 4,
 "nbformat_minor": 5
}
