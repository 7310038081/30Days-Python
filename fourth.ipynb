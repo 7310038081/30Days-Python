{
 "cells": [
  {
   "cell_type": "markdown",
   "id": "e9857516-8cf2-4e3c-8025-e3a79828c0d3",
   "metadata": {},
   "source": [
    "Control Flow Statements"
   ]
  },
  {
   "cell_type": "markdown",
   "id": "456a266f-ab73-456e-838b-79137767c73a",
   "metadata": {},
   "source": [
    "If Condition"
   ]
  },
  {
   "cell_type": "markdown",
   "id": "2f0df47b-9325-4a80-9737-3f63fcf65dd5",
   "metadata": {},
   "source": [
    "Question:- Write a program to find the percentage of a students maths science social english and hindi "
   ]
  },
  {
   "cell_type": "code",
   "execution_count": 4,
   "id": "8601bc99-caad-4691-9fbf-b9ee519bbb53",
   "metadata": {},
   "outputs": [
    {
     "name": "stdin",
     "output_type": "stream",
     "text": [
      "Enter the student name Vivek Singh\n",
      "Enter the Maths Marks of th student 85\n",
      "Enter the Science Marks of th student 80\n",
      "Enter the Social Marks of th student 82\n",
      "Enter the English Marks of th student 83\n",
      "Enter the Hindi Marks of th student 92\n"
     ]
    },
    {
     "name": "stdout",
     "output_type": "stream",
     "text": [
      "The Total Percentage obtained by student is  84.39999999999999\n"
     ]
    }
   ],
   "source": [
    "Name = input(\"Enter the student name\")\n",
    "a = int(input(\"Enter the Maths Marks of th student\"))\n",
    "b = int(input(\"Enter the Science Marks of th student\"))\n",
    "c = int(input(\"Enter the Social Marks of th student\"))\n",
    "d = int(input(\"Enter the English Marks of th student\"))\n",
    "e = int(input(\"Enter the Hindi Marks of th student\"))\n",
    "\n",
    "Total_Percentage = ((a+b+c+d+e)/500)*100\n",
    "print(\"The Total Percentage obtained by student is \" , Total_Percentage)\n"
   ]
  },
  {
   "cell_type": "code",
   "execution_count": 7,
   "id": "61f4b4ea-0333-42e9-a953-4270e25147c8",
   "metadata": {},
   "outputs": [
    {
     "name": "stdin",
     "output_type": "stream",
     "text": [
      "Enter the percentage 85\n"
     ]
    },
    {
     "name": "stdout",
     "output_type": "stream",
     "text": [
      "B Grade\n"
     ]
    }
   ],
   "source": [
    "percentage = int(input(\"Enter the percentage\"))\n",
    "\n",
    "if percentage>=90:\n",
    "    print(\"A Grade\")\n",
    "if percentage>=75 and percentage<90:\n",
    "    print(\"B Grade\")\n",
    "if percentage>=50 and percentage<65:\n",
    "    print(\"C Grade\")\n",
    "\n",
    "                 "
   ]
  },
  {
   "cell_type": "markdown",
   "id": "487491ba-27f6-494b-a004-9995aae04a20",
   "metadata": {},
   "source": [
    "If-Else condition"
   ]
  },
  {
   "cell_type": "markdown",
   "id": "3a2e1349-7c12-430b-a268-b9319922ee71",
   "metadata": {},
   "source": [
    "Write a program to display hello if the number is a multiple of 5 otherwise display bye "
   ]
  },
  {
   "cell_type": "code",
   "execution_count": 9,
   "id": "5395cf2f-1383-429d-ba10-a2019d1ac096",
   "metadata": {},
   "outputs": [
    {
     "name": "stdin",
     "output_type": "stream",
     "text": [
      "Enter the number 42\n"
     ]
    },
    {
     "name": "stdout",
     "output_type": "stream",
     "text": [
      "Bye\n"
     ]
    }
   ],
   "source": [
    "number = int(input(\"Enter the number\"))\n",
    "\n",
    "if number%5==0:\n",
    "    print(\"Hello\")\n",
    "else :\n",
    "    print(\"Bye\")\n",
    "    "
   ]
  },
  {
   "cell_type": "markdown",
   "id": "e4c5a799-d77e-43ca-a97a-99f01ea0e997",
   "metadata": {},
   "source": [
    "IF-ELIF ELSE"
   ]
  },
  {
   "cell_type": "code",
   "execution_count": 15,
   "id": "86ce6a9e-f8a4-4a1f-a4cf-dc65a3cb061d",
   "metadata": {},
   "outputs": [
    {
     "name": "stdin",
     "output_type": "stream",
     "text": [
      "Enter the number 53\n"
     ]
    },
    {
     "name": "stdout",
     "output_type": "stream",
     "text": [
      "The number is positive\n"
     ]
    }
   ],
   "source": [
    "number = int(input(\"Enter the number\"))\n",
    "\n",
    "if number==0:\n",
    "    print(\"The number is zero\")\n",
    "elif number>0:\n",
    "    print(\"The number is positive\")\n",
    "else:\n",
    "    print(\"The number is negative\")\n",
    "    "
   ]
  },
  {
   "cell_type": "code",
   "execution_count": 22,
   "id": "89f32321-8c1e-4fdc-b880-5af34e376bd3",
   "metadata": {},
   "outputs": [
    {
     "name": "stdin",
     "output_type": "stream",
     "text": [
      "Enter the city Howarh bridge\n"
     ]
    },
    {
     "name": "stdout",
     "output_type": "stream",
     "text": [
      "Record not found\n"
     ]
    }
   ],
   "source": [
    "city = input(\"Enter the city\")\n",
    "\n",
    "if city == \"Delhi\":\n",
    "    print(\"Red Fort\")\n",
    "elif city == \"Agra\":\n",
    "    print(\"Taj Mahal\")\n",
    "elif city == \"Jaipur\":\n",
    "    print(\"Jalmahal\")\n",
    "elif city == \"Orissa\":\n",
    "    print(\"Konark Temple\")\n",
    "elif city == \"Hyderabad\":\n",
    "    print(\"Charminar\")\n",
    "else:\n",
    "    print(\"Record not found\")\n",
    "    "
   ]
  },
  {
   "cell_type": "code",
   "execution_count": null,
   "id": "4a8e03f1-57e7-45e5-8d5b-bad7b0f94d49",
   "metadata": {},
   "outputs": [],
   "source": []
  }
 ],
 "metadata": {
  "kernelspec": {
   "display_name": "Python 3 (ipykernel)",
   "language": "python",
   "name": "python3"
  },
  "language_info": {
   "codemirror_mode": {
    "name": "ipython",
    "version": 3
   },
   "file_extension": ".py",
   "mimetype": "text/x-python",
   "name": "python",
   "nbconvert_exporter": "python",
   "pygments_lexer": "ipython3",
   "version": "3.12.0"
  }
 },
 "nbformat": 4,
 "nbformat_minor": 5
}
