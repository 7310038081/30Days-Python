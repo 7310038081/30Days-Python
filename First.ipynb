{
 "cells": [
  {
   "cell_type": "markdown",
   "id": "e0b186bb-a6c4-46c7-a7e7-e20601f3ebdc",
   "metadata": {},
   "source": [
    "Day1 of 30Days of Python"
   ]
  },
  {
   "cell_type": "code",
   "execution_count": 5,
   "id": "77f34ab1-3880-47c5-bead-044defb28dd4",
   "metadata": {},
   "outputs": [
    {
     "name": "stdout",
     "output_type": "stream",
     "text": [
      "Hello Vivek\n"
     ]
    }
   ],
   "source": [
    "print(\"Hello Vivek\")"
   ]
  },
  {
   "cell_type": "code",
   "execution_count": 6,
   "id": "ef11860c-d080-4c7f-b0cc-a70c3a0eb7e9",
   "metadata": {},
   "outputs": [
    {
     "name": "stdout",
     "output_type": "stream",
     "text": [
      "12\n"
     ]
    }
   ],
   "source": [
    "print(3*4)"
   ]
  },
  {
   "cell_type": "markdown",
   "id": "4f3a3669-bace-4c58-8e5b-cd5119799249",
   "metadata": {},
   "source": [
    "Python Comments"
   ]
  },
  {
   "cell_type": "code",
   "execution_count": 9,
   "id": "e50a9de2-64eb-477c-9873-df3b2153a4a8",
   "metadata": {},
   "outputs": [
    {
     "name": "stdout",
     "output_type": "stream",
     "text": [
      "hello vivek \n"
     ]
    }
   ],
   "source": [
    "#This is the comment (Single Line Comments)\n",
    "print(\"hello vivek \")"
   ]
  },
  {
   "cell_type": "markdown",
   "id": "4d139d08-86ed-4760-bc8b-bdf6f19513db",
   "metadata": {},
   "source": [
    "Multiline Comments"
   ]
  },
  {
   "cell_type": "code",
   "execution_count": 11,
   "id": "2c1c9925-cde7-43d3-8206-2a907bf10ee8",
   "metadata": {},
   "outputs": [
    {
     "name": "stdout",
     "output_type": "stream",
     "text": [
      "Hello World\n",
      "This is all about the ways of using the multiline comments.\n"
     ]
    }
   ],
   "source": [
    "#This is the comment1\n",
    "#This is the comment2   (This is the first way of using multiline comments using the # sign)\n",
    "#This is the comment3\n",
    "print(\"Hello World\")\n",
    "\n",
    "\"\"\" This is the second way of using the multiline comment using the \"\"\"\n",
    "print(\"This is all about the ways of using the multiline comments.\")\n"
   ]
  },
  {
   "cell_type": "code",
   "execution_count": null,
   "id": "86f1721e-45a4-4451-944d-8a95b58ef26b",
   "metadata": {},
   "outputs": [],
   "source": []
  }
 ],
 "metadata": {
  "kernelspec": {
   "display_name": "Python 3 (ipykernel)",
   "language": "python",
   "name": "python3"
  },
  "language_info": {
   "codemirror_mode": {
    "name": "ipython",
    "version": 3
   },
   "file_extension": ".py",
   "mimetype": "text/x-python",
   "name": "python",
   "nbconvert_exporter": "python",
   "pygments_lexer": "ipython3",
   "version": "3.12.0"
  }
 },
 "nbformat": 4,
 "nbformat_minor": 5
}
