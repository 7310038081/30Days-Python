{
 "cells": [
  {
   "cell_type": "markdown",
   "id": "cfeb569e-4524-43b3-ac8c-fe68df5df55e",
   "metadata": {},
   "source": [
    "Variables in Python"
   ]
  },
  {
   "cell_type": "code",
   "execution_count": 3,
   "id": "25886eb9-2115-4416-8185-47cfb35132ef",
   "metadata": {},
   "outputs": [
    {
     "name": "stdout",
     "output_type": "stream",
     "text": [
      "5\n",
      "apple\n"
     ]
    }
   ],
   "source": [
    "X = 5 \n",
    "Y = \"apple\"\n",
    "print(X)\n",
    "print(Y)\n"
   ]
  },
  {
   "cell_type": "code",
   "execution_count": 5,
   "id": "c48de924-f3d0-4eca-879f-5bd9be172823",
   "metadata": {},
   "outputs": [
    {
     "name": "stdout",
     "output_type": "stream",
     "text": [
      "orange\n",
      "banana\n",
      "apple\n"
     ]
    }
   ],
   "source": [
    "x , y, z= \"orange\",\"banana\",\"apple\"\n",
    "print(x)\n",
    "print(y)\n",
    "print(z)\n"
   ]
  },
  {
   "cell_type": "code",
   "execution_count": 6,
   "id": "dc096266-f9a2-488b-8995-8d8d72356a55",
   "metadata": {},
   "outputs": [
    {
     "name": "stdout",
     "output_type": "stream",
     "text": [
      "Orange\n",
      "Orange\n",
      "Orange\n"
     ]
    }
   ],
   "source": [
    "x=y=z=\"Orange\"\n",
    "print(x)\n",
    "print(y)\n",
    "print(z)\n"
   ]
  },
  {
   "cell_type": "markdown",
   "id": "89f0c4a2-e13e-4997-8049-722bdaa87eba",
   "metadata": {},
   "source": [
    "Datatypes in Python\n",
    "1.Numeric\n",
    "a.Int\n",
    "b.Float\n",
    "c. Complex Number\n",
    "\n",
    "2.Dictionary\n",
    "\n",
    "3.Boolean\n",
    "\n",
    "4.Set\n",
    "\n",
    "5.Sequence\n",
    "a.Strings\n",
    "b.List\n",
    "c.Tuple\n",
    "\n",
    "\n",
    "\n",
    "\n"
   ]
  },
  {
   "cell_type": "code",
   "execution_count": 13,
   "id": "e6aad4fc-7399-45cc-a3d3-4da2386f51d7",
   "metadata": {},
   "outputs": [
    {
     "name": "stdout",
     "output_type": "stream",
     "text": [
      "5\n",
      "<class 'int'>\n",
      "apple\n",
      "<class 'str'>\n",
      "2.5\n",
      "<class 'float'>\n",
      "(3+4j)\n",
      "<class 'complex'>\n",
      "[1, 2, 3, 4, 5, 6, 7, 8, 9, 10]\n",
      "<class 'list'>\n",
      "(1, 2, 3, 4, 5)\n",
      "<class 'tuple'>\n"
     ]
    }
   ],
   "source": [
    "a = 5 #integer in python\n",
    "print(a)\n",
    "print(type(a))\n",
    "\n",
    "b = \"apple\" #strings in python\n",
    "print(b)\n",
    "print(type(b))\n",
    "\n",
    "c = 2.5 #float number in python\n",
    "print(c)\n",
    "print(type(c))\n",
    "\n",
    "d = 3+ 4j #complex number in python\n",
    "print(d)\n",
    "print(type(d))\n",
    "\n",
    "e = [1,2,3,4,5,6,7,8,9,10]  #List in python\n",
    "print(e)\n",
    "print(type(e))\n",
    "\n",
    "f = (1,2,3,4,5)\n",
    "print(f)\n",
    "print(type(f))\n"
   ]
  },
  {
   "cell_type": "code",
   "execution_count": 14,
   "id": "e9d09cf4-b50a-4afc-9d74-73b816b76a94",
   "metadata": {},
   "outputs": [
    {
     "name": "stdout",
     "output_type": "stream",
     "text": [
      "Variable   Type       Data/Info\n",
      "-------------------------------\n",
      "X          int        5\n",
      "Y          str        apple\n",
      "a          int        5\n",
      "b          str        apple\n",
      "c          float      2.5\n",
      "d          complex    (3+4j)\n",
      "e          list       n=10\n",
      "f          tuple      n=5\n",
      "x          str        Orange\n",
      "y          str        Orange\n",
      "z          str        Orange\n"
     ]
    }
   ],
   "source": [
    "%whos"
   ]
  },
  {
   "cell_type": "raw",
   "id": "d7e07199-2330-4788-91f4-19be6764815e",
   "metadata": {},
   "source": [
    "m = 2\n",
    "print(m**2)"
   ]
  },
  {
   "cell_type": "code",
   "execution_count": 16,
   "id": "57bb5865-7b1c-4bf0-8601-e9b6e6a11683",
   "metadata": {},
   "outputs": [
    {
     "name": "stdout",
     "output_type": "stream",
     "text": [
      "20637005.183908045\n"
     ]
    }
   ],
   "source": [
    " a = ((8922*2852) + (7821*222)-(25566*256)+(8281/87))\n",
    "print(a)"
   ]
  },
  {
   "cell_type": "code",
   "execution_count": null,
   "id": "914ea8b8-6c1c-4552-a0e6-1258c3218a20",
   "metadata": {},
   "outputs": [],
   "source": []
  }
 ],
 "metadata": {
  "kernelspec": {
   "display_name": "Python 3 (ipykernel)",
   "language": "python",
   "name": "python3"
  },
  "language_info": {
   "codemirror_mode": {
    "name": "ipython",
    "version": 3
   },
   "file_extension": ".py",
   "mimetype": "text/x-python",
   "name": "python",
   "nbconvert_exporter": "python",
   "pygments_lexer": "ipython3",
   "version": "3.12.0"
  }
 },
 "nbformat": 4,
 "nbformat_minor": 5
}
